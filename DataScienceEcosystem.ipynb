{
 "cells": [
  {
   "cell_type": "markdown",
   "id": "6c21ddab-045d-461f-9fd1-cdda0a7465ab",
   "metadata": {},
   "source": [
    "# Data Science Tools and Ecosystems"
   ]
  },
  {
   "cell_type": "markdown",
   "id": "e3e6e17c-6c35-4fac-bfc6-b5d9482bbf2b",
   "metadata": {},
   "source": [
    "In this notebook, Data Science Tools and Ecosystems are summarized"
   ]
  },
  {
   "cell_type": "markdown",
   "id": "cb207980-8750-4d6a-b29d-5a775d6be983",
   "metadata": {},
   "source": [
    "Some of the popular languages that Data Scientists use are:\n",
    "1. Python\n",
    "2. Java\n",
    "3. R"
   ]
  },
  {
   "cell_type": "markdown",
   "id": "48636e1e-a3bd-415b-95c8-b3d7afe02090",
   "metadata": {},
   "source": [
    "Some of the commonly used libraries used by Data Scientists include:\n",
    "1. Keras\n",
    "2. Matplotlib\n",
    "3. Pandas"
   ]
  },
  {
   "cell_type": "markdown",
   "id": "0b47ba7c-07d1-4baa-b58c-66c4e85eaed8",
   "metadata": {
    "editable": true,
    "slideshow": {
     "slide_type": ""
    },
    "tags": []
   },
   "source": [
    "| Data Science Tools |\n",
    "|:--------:|\n",
    "|Apache Spark| \n",
    "|Apach Hadoop|\n",
    "|SAS|"
   ]
  },
  {
   "cell_type": "markdown",
   "id": "01fd0837-ba5d-4862-9695-f6538cc934b5",
   "metadata": {},
   "source": [
    "### Below are a few examples of evaluating arithmetic expressions in Python"
   ]
  },
  {
   "cell_type": "code",
   "execution_count": 3,
   "id": "bacedc55-77e9-4d3e-9910-a320ac546561",
   "metadata": {},
   "outputs": [
    {
     "data": {
      "text/plain": [
       "17"
      ]
     },
     "execution_count": 3,
     "metadata": {},
     "output_type": "execute_result"
    }
   ],
   "source": [
    "#This a simple arithmetic expression to mutiply then add integers\n",
    "(3*4)+5"
   ]
  },
  {
   "cell_type": "code",
   "execution_count": 4,
   "id": "c8577ff8-5b9b-4e5d-9498-4c03dc5964ea",
   "metadata": {},
   "outputs": [
    {
     "data": {
      "text/plain": [
       "3.3333333333333335"
      ]
     },
     "execution_count": 4,
     "metadata": {},
     "output_type": "execute_result"
    }
   ],
   "source": [
    "#This will convert 200 minutes to hours by diving by 60\n",
    "200/60"
   ]
  },
  {
   "cell_type": "markdown",
   "id": "39120e7d-63f5-4636-b8e1-dfdc2c15c198",
   "metadata": {},
   "source": [
    "**Objectives**\n",
    "* How to add in various headers\n",
    "* How to create order lists\n",
    "* How to create unordered lists\n",
    "* How to evaluate arithmetic expressions in Python\n",
    "* List popular languages for data science"
   ]
  },
  {
   "cell_type": "markdown",
   "id": "c515b324-f4ee-4710-b7a4-8c4d16e55f90",
   "metadata": {},
   "source": [
    "## Author"
   ]
  },
  {
   "cell_type": "markdown",
   "id": "36d40ed5-3cef-447d-8bac-9c9f2303b352",
   "metadata": {},
   "source": [
    "Matthew Englert"
   ]
  },
  {
   "cell_type": "code",
   "execution_count": null,
   "id": "ed15e756-5b25-41a2-8b06-f94b68181ff6",
   "metadata": {},
   "outputs": [],
   "source": []
  }
 ],
 "metadata": {
  "kernelspec": {
   "display_name": "Python 3 (ipykernel)",
   "language": "python",
   "name": "python3"
  },
  "language_info": {
   "codemirror_mode": {
    "name": "ipython",
    "version": 3
   },
   "file_extension": ".py",
   "mimetype": "text/x-python",
   "name": "python",
   "nbconvert_exporter": "python",
   "pygments_lexer": "ipython3",
   "version": "3.12.7"
  }
 },
 "nbformat": 4,
 "nbformat_minor": 5
}
